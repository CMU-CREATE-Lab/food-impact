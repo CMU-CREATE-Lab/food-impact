{
 "metadata": {
  "name": "",
  "signature": "sha256:2f354416de7ef1cef2edf4cdc20b816266f4923620f594ece36517b276a3710a"
 },
 "nbformat": 3,
 "nbformat_minor": 0,
 "worksheets": [
  {
   "cells": [
    {
     "cell_type": "code",
     "collapsed": false,
     "input": [
      "import csv, json\n",
      "srcfile = 'results.csv'"
     ],
     "language": "python",
     "metadata": {},
     "outputs": [],
     "prompt_number": 2
    },
    {
     "cell_type": "code",
     "collapsed": false,
     "input": [
      "data = []\n",
      "with open(srcfile, \"rb\") as csvfile:\n",
      "    reader = csv.DictReader(csvfile)\n",
      "    for line in reader:\n",
      "        data.append(line)\n"
     ],
     "language": "python",
     "metadata": {},
     "outputs": [],
     "prompt_number": 3
    },
    {
     "cell_type": "code",
     "collapsed": false,
     "input": [
      "data[0]"
     ],
     "language": "python",
     "metadata": {},
     "outputs": [
      {
       "metadata": {},
       "output_type": "pyout",
       "prompt_number": 4,
       "text": [
        "{'Cause of death': 'all-c',\n",
        " 'Item': 'deaths_avd',\n",
        " 'Metric': 'abs',\n",
        " 'RCP': 'RCP8p5',\n",
        " 'Region': 'AZE',\n",
        " 'Scenario': 'SSP2_NoCC',\n",
        " 'Stats': 'mean',\n",
        " 'Subitem': 'UND',\n",
        " 'Value': '-7.363404945444733E-15',\n",
        " 'Year': '2010'}"
       ]
      }
     ],
     "prompt_number": 4
    },
    {
     "cell_type": "code",
     "collapsed": false,
     "input": [
      "with open(\"countries.geojson\") as f:\n",
      "    countries = json.load(f)\n"
     ],
     "language": "python",
     "metadata": {},
     "outputs": [],
     "prompt_number": 5
    },
    {
     "cell_type": "code",
     "collapsed": false,
     "input": [
      "min = 1.0\n",
      "max = -1.0\n",
      "total = 0\n",
      "i = 0\n",
      "for row in data:\n",
      "    country = row['Region']\n",
      "    scenario = row[\"Scenario\"]\n",
      "    year = row[\"Year\"]\n",
      "    item = row[\"Item\"]\n",
      "    metric = row[\"Metric\"]\n",
      "    stats = row[\"Stats\"]\n",
      "    subitem = row[\"Subitem\"]\n",
      "    cause_of_death = row[\"Cause of death\"]\n",
      "    value = float(row[\"Value\"])\n",
      "    if scenario == \"SSP2_CC\" and stats == \"mean\" and \\\n",
      "         item == \"deaths_avd\" and cause_of_death == \"all-c\" and metric == \"abs\" and subitem == \"ALL_SCN\":\n",
      "        if value > max:\n",
      "            max = value\n",
      "        if value < min:\n",
      "            min = value\n",
      "        total += value\n",
      "        i += 1\n",
      "avg = total / i"
     ],
     "language": "python",
     "metadata": {},
     "outputs": [],
     "prompt_number": 6
    },
    {
     "cell_type": "code",
     "collapsed": false,
     "input": [
      "print \"min: %s, max: %s, avg: %s\" % (min, max, avg)"
     ],
     "language": "python",
     "metadata": {},
     "outputs": [
      {
       "output_type": "stream",
       "stream": "stdout",
       "text": [
        "min: -14.5655357313, max: 895.043035116, avg: 4.73134513343\n"
       ]
      }
     ],
     "prompt_number": 7
    },
    {
     "cell_type": "code",
     "collapsed": false,
     "input": [
      "future_of_food = {}\n",
      "for row in data:\n",
      "    country = row['Region']\n",
      "    scenario = row[\"Scenario\"]\n",
      "    year = row[\"Year\"]\n",
      "    item = row[\"Item\"]\n",
      "    metric = row[\"Metric\"]\n",
      "    stats = row[\"Stats\"]\n",
      "    subitem = row[\"Subitem\"]\n",
      "    cause_of_death = row[\"Cause of death\"]\n",
      "    value = float(row[\"Value\"])\n",
      "    if scenario == \"SSP2_CC\" and stats == \"mean\" and \\\n",
      "         item == \"deaths_avd\" and cause_of_death == \"all-c\" and metric == \"abs\" and subitem == \"ALL_SCN\":\n",
      "        if not future_of_food.has_key(country):\n",
      "            future_of_food[country] = {\"scenarios\": []}\n",
      "            future_of_food[country][\"scenarios\"].append({\"scenario\": scenario, \"years\":[]})\n",
      "        val = {\"year\": year, \"value\": value}\n",
      "        future_of_food[country][\"scenarios\"][0][\"years\"].append(val)"
     ],
     "language": "python",
     "metadata": {},
     "outputs": [],
     "prompt_number": 10
    },
    {
     "cell_type": "code",
     "collapsed": false,
     "input": [
      "countries['features'][0]['id']"
     ],
     "language": "python",
     "metadata": {},
     "outputs": [
      {
       "metadata": {},
       "output_type": "pyout",
       "prompt_number": 11,
       "text": [
        "u'AFG'"
       ]
      }
     ],
     "prompt_number": 11
    },
    {
     "cell_type": "code",
     "collapsed": false,
     "input": [
      "future_of_food['CAN']['scenarios'][0]"
     ],
     "language": "python",
     "metadata": {},
     "outputs": [
      {
       "metadata": {},
       "output_type": "pyout",
       "prompt_number": 12,
       "text": [
        "{'scenario': 'SSP2_CC',\n",
        " 'years': [{'value': 0.49893255296839495, 'year': '2015'},\n",
        "  {'value': 1.0284273181497308, 'year': '2020'},\n",
        "  {'value': 1.677617533239456, 'year': '2025'},\n",
        "  {'value': 2.2260558497500216, 'year': '2030'},\n",
        "  {'value': 2.7466364864011905, 'year': '2035'},\n",
        "  {'value': 3.2589187566543862, 'year': '2040'},\n",
        "  {'value': 3.63894423749176, 'year': '2045'},\n",
        "  {'value': 3.9208127301770004, 'year': '2050'}]}"
       ]
      }
     ],
     "prompt_number": 12
    },
    {
     "cell_type": "code",
     "collapsed": false,
     "input": [
      "for feature in countries['features']:\n",
      "    country = feature['id']\n",
      "    if future_of_food.has_key(country):\n",
      "        feature['properties']['scenarios'] = future_of_food[country]['scenarios']"
     ],
     "language": "python",
     "metadata": {},
     "outputs": [],
     "prompt_number": 14
    },
    {
     "cell_type": "code",
     "collapsed": false,
     "input": [
      "countries['features'][0]['properties']"
     ],
     "language": "python",
     "metadata": {},
     "outputs": [
      {
       "metadata": {},
       "output_type": "pyout",
       "prompt_number": 31,
       "text": [
        "{u'name': u'Afghanistan',\n",
        " 'scenarios': [{'scenario': 'SSP2_CC',\n",
        "   'years': [{'value': 0.02773524186028962, 'year': '2015'},\n",
        "    {'value': -0.22495453663327716, 'year': '2020'},\n",
        "    {'value': -0.2964505654695508, 'year': '2025'},\n",
        "    {'value': -0.059202745694640714, 'year': '2030'},\n",
        "    {'value': 0.26320117684250505, 'year': '2035'},\n",
        "    {'value': 0.6902378939758366, 'year': '2040'},\n",
        "    {'value': 1.1896709329954753, 'year': '2045'},\n",
        "    {'value': 1.7858147015623205, 'year': '2050'}]}]}"
       ]
      }
     ],
     "prompt_number": 31
    },
    {
     "cell_type": "code",
     "collapsed": false,
     "input": [
      "with open('future_of_food.geojson', 'w') as f:\n",
      "    json.dump(countries, f, indent=4)"
     ],
     "language": "python",
     "metadata": {},
     "outputs": [],
     "prompt_number": 17
    },
    {
     "cell_type": "code",
     "collapsed": false,
     "input": [
      "future_of_food['USA']"
     ],
     "language": "python",
     "metadata": {},
     "outputs": [
      {
       "metadata": {},
       "output_type": "pyout",
       "prompt_number": 33,
       "text": [
        "{'scenarios': [{'scenario': 'SSP2_CC',\n",
        "   'years': [{'value': 6.140880394800675, 'year': '2015'},\n",
        "    {'value': 12.591976686043601, 'year': '2020'},\n",
        "    {'value': 19.058991288663925, 'year': '2025'},\n",
        "    {'value': 25.07504193179712, 'year': '2030'},\n",
        "    {'value': 30.872609175012133, 'year': '2035'},\n",
        "    {'value': 36.429811998179694, 'year': '2040'},\n",
        "    {'value': 40.35239015125067, 'year': '2045'},\n",
        "    {'value': 42.92406283764092, 'year': '2050'}]}]}"
       ]
      }
     ],
     "prompt_number": 33
    },
    {
     "cell_type": "code",
     "collapsed": false,
     "input": [],
     "language": "python",
     "metadata": {},
     "outputs": []
    }
   ],
   "metadata": {}
  }
 ]
}