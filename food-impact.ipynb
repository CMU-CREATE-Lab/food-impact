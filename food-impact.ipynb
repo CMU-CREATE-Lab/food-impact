{
 "metadata": {
  "name": "",
  "signature": "sha256:359cbc41b24788a385fb7746ab6c8f96bf42f4e93e184716e5a0fddf54a0b811"
 },
 "nbformat": 3,
 "nbformat_minor": 0,
 "worksheets": [
  {
   "cells": [
    {
     "cell_type": "code",
     "collapsed": false,
     "input": [
      "import csv, json\n",
      "srcfile = 'results.csv'"
     ],
     "language": "python",
     "metadata": {},
     "outputs": [],
     "prompt_number": 12
    },
    {
     "cell_type": "code",
     "collapsed": false,
     "input": [
      "data = []\n",
      "with open(srcfile, \"rb\") as csvfile:\n",
      "    reader = csv.DictReader(csvfile)\n",
      "    for line in reader:\n",
      "        data.append(line)\n"
     ],
     "language": "python",
     "metadata": {},
     "outputs": [],
     "prompt_number": 13
    },
    {
     "cell_type": "code",
     "collapsed": false,
     "input": [
      "data[0]"
     ],
     "language": "python",
     "metadata": {},
     "outputs": [
      {
       "metadata": {},
       "output_type": "pyout",
       "prompt_number": 14,
       "text": [
        "{'Cause of death': 'all-c',\n",
        " 'Item': 'deaths_avd',\n",
        " 'Metric': 'abs',\n",
        " 'RCP': 'RCP8p5',\n",
        " 'Region': 'AZE',\n",
        " 'Scenario': 'SSP2_NoCC',\n",
        " 'Stats': 'mean',\n",
        " 'Subitem': 'UND',\n",
        " 'Value': '-7.363404945444733E-15',\n",
        " 'Year': '2010'}"
       ]
      }
     ],
     "prompt_number": 14
    },
    {
     "cell_type": "code",
     "collapsed": false,
     "input": [
      "with open(\"countries.geojson\") as f:\n",
      "    countries = json.load(f)\n"
     ],
     "language": "python",
     "metadata": {},
     "outputs": [],
     "prompt_number": 15
    },
    {
     "cell_type": "code",
     "collapsed": false,
     "input": [
      "min = 1.0\n",
      "max = -1.0\n",
      "total = 0\n",
      "i = 0\n",
      "for row in data:\n",
      "    country = row['Region']\n",
      "    scenario = row[\"Scenario\"]\n",
      "    year = row[\"Year\"]\n",
      "    item = row[\"Item\"]\n",
      "    metric = row[\"Metric\"]\n",
      "    stats = row[\"Stats\"]\n",
      "    subitem = row[\"Subitem\"]\n",
      "    cause_of_death = row[\"Cause of death\"]\n",
      "    value = float(row[\"Value\"])\n",
      "    if scenario == \"SSP2_CC\" and stats == \"mean\" and \\\n",
      "         item == \"deaths_avd\" and cause_of_death == \"all-c\" and metric == \"abs\" and subitem == \"ALL_SCN\":\n",
      "        if value > max:\n",
      "            max = value\n",
      "        if value < min:\n",
      "            min = value\n",
      "        total += value\n",
      "        i += 1\n",
      "avg = total / i"
     ],
     "language": "python",
     "metadata": {},
     "outputs": [],
     "prompt_number": 5
    },
    {
     "cell_type": "code",
     "collapsed": false,
     "input": [
      "print \"min: %s, max: %s, avg: %s\" % (min, max, avg)"
     ],
     "language": "python",
     "metadata": {},
     "outputs": [
      {
       "output_type": "stream",
       "stream": "stdout",
       "text": [
        "min: -14.5655357313, max: 895.043035116, avg: 4.73134513343\n"
       ]
      }
     ],
     "prompt_number": 6
    },
    {
     "cell_type": "code",
     "collapsed": false,
     "input": [
      "future_of_food = {}\n",
      "for row in data:\n",
      "    country = row['Region']\n",
      "    scenario = row[\"Scenario\"]\n",
      "    year = row[\"Year\"]\n",
      "    item = row[\"Item\"]\n",
      "    metric = row[\"Metric\"]\n",
      "    stats = row[\"Stats\"]\n",
      "    subitem = row[\"Subitem\"]\n",
      "    cause_of_death = row[\"Cause of death\"]\n",
      "    value = float(row[\"Value\"])\n",
      "    if (scenario == \"SSP2_CC\" or scenario == \"SSP2_NoCC\") and stats == \"mean\" and \\\n",
      "         item == \"deaths_avd\" and cause_of_death == \"all-c\" and metric == \"abs\" and subitem == \"ALL_SCN\":\n",
      "        if not future_of_food.has_key(country):\n",
      "            future_of_food[country] = {\"scenarios\": []}\n",
      "            future_of_food[country][\"scenarios\"].append({\"scenario\": \"SSP2_CC\", \"years\":[]})\n",
      "            future_of_food[country][\"scenarios\"].append({\"scenario\": \"SSP2_NoCC\", \"years\":[]})\n",
      "        val = {\"year\": year, \"value\": value}\n",
      "        if scenario == \"SSP2_CC\":\n",
      "            future_of_food[country][\"scenarios\"][0][\"years\"].append(val)\n",
      "        if scenario == \"SSP2_NoCC\":\n",
      "            future_of_food[country][\"scenarios\"][1][\"years\"].append(val)\n"
     ],
     "language": "python",
     "metadata": {},
     "outputs": [],
     "prompt_number": 5
    },
    {
     "cell_type": "code",
     "collapsed": false,
     "input": [
      "countries['features'][0]['id']"
     ],
     "language": "python",
     "metadata": {},
     "outputs": [
      {
       "metadata": {},
       "output_type": "pyout",
       "prompt_number": 92,
       "text": [
        "u'AFG'"
       ]
      }
     ],
     "prompt_number": 92
    },
    {
     "cell_type": "code",
     "collapsed": false,
     "input": [
      "future_of_food['AFG']"
     ],
     "language": "python",
     "metadata": {},
     "outputs": [
      {
       "metadata": {},
       "output_type": "pyout",
       "prompt_number": 8,
       "text": [
        "{'scenarios': [{'scenario': 'SSP2_CC',\n",
        "   'years': [{'value': 0.02773524186028962, 'year': '2015'},\n",
        "    {'value': -0.22495453663327716, 'year': '2020'},\n",
        "    {'value': -0.2964505654695508, 'year': '2025'},\n",
        "    {'value': -0.059202745694640714, 'year': '2030'},\n",
        "    {'value': 0.26320117684250505, 'year': '2035'},\n",
        "    {'value': 0.6902378939758366, 'year': '2040'},\n",
        "    {'value': 1.1896709329954753, 'year': '2045'},\n",
        "    {'value': 1.7858147015623205, 'year': '2050'}]},\n",
        "  {'scenario': 'SSP2_NoCC',\n",
        "   'years': [{'value': 0.1559996024924935, 'year': '2015'},\n",
        "    {'value': 0.06410352862087959, 'year': '2020'},\n",
        "    {'value': 0.1865201501313533, 'year': '2025'},\n",
        "    {'value': 0.6263510912479127, 'year': '2030'},\n",
        "    {'value': 1.1733113495532996, 'year': '2035'},\n",
        "    {'value': 1.847584559322509, 'year': '2040'},\n",
        "    {'value': 2.623228075674989, 'year': '2045'},\n",
        "    {'value': 3.4900075916547784, 'year': '2050'}]}]}"
       ]
      }
     ],
     "prompt_number": 8
    },
    {
     "cell_type": "code",
     "collapsed": false,
     "input": [
      "for feature in countries['features']:\n",
      "    country = feature['id']\n",
      "    if future_of_food.has_key(country):\n",
      "        feature['properties']['scenarios'] = future_of_food[country]['scenarios']"
     ],
     "language": "python",
     "metadata": {},
     "outputs": [],
     "prompt_number": 14
    },
    {
     "cell_type": "code",
     "collapsed": false,
     "input": [
      "countries['features'][0]['properties']"
     ],
     "language": "python",
     "metadata": {},
     "outputs": [
      {
       "metadata": {},
       "output_type": "pyout",
       "prompt_number": 31,
       "text": [
        "{u'name': u'Afghanistan',\n",
        " 'scenarios': [{'scenario': 'SSP2_CC',\n",
        "   'years': [{'value': 0.02773524186028962, 'year': '2015'},\n",
        "    {'value': -0.22495453663327716, 'year': '2020'},\n",
        "    {'value': -0.2964505654695508, 'year': '2025'},\n",
        "    {'value': -0.059202745694640714, 'year': '2030'},\n",
        "    {'value': 0.26320117684250505, 'year': '2035'},\n",
        "    {'value': 0.6902378939758366, 'year': '2040'},\n",
        "    {'value': 1.1896709329954753, 'year': '2045'},\n",
        "    {'value': 1.7858147015623205, 'year': '2050'}]}]}"
       ]
      }
     ],
     "prompt_number": 31
    },
    {
     "cell_type": "code",
     "collapsed": false,
     "input": [
      "with open('future_of_food.geojson', 'w') as f:\n",
      "    json.dump(countries, f, indent=4)"
     ],
     "language": "python",
     "metadata": {},
     "outputs": [],
     "prompt_number": 17
    },
    {
     "cell_type": "code",
     "collapsed": false,
     "input": [
      "future_of_food['USA']"
     ],
     "language": "python",
     "metadata": {},
     "outputs": [
      {
       "metadata": {},
       "output_type": "pyout",
       "prompt_number": 33,
       "text": [
        "{'scenarios': [{'scenario': 'SSP2_CC',\n",
        "   'years': [{'value': 6.140880394800675, 'year': '2015'},\n",
        "    {'value': 12.591976686043601, 'year': '2020'},\n",
        "    {'value': 19.058991288663925, 'year': '2025'},\n",
        "    {'value': 25.07504193179712, 'year': '2030'},\n",
        "    {'value': 30.872609175012133, 'year': '2035'},\n",
        "    {'value': 36.429811998179694, 'year': '2040'},\n",
        "    {'value': 40.35239015125067, 'year': '2045'},\n",
        "    {'value': 42.92406283764092, 'year': '2050'}]}]}"
       ]
      }
     ],
     "prompt_number": 33
    },
    {
     "cell_type": "code",
     "collapsed": false,
     "input": [
      "min = 10.0\n",
      "max = -1.0\n",
      "total = 0\n",
      "i = 0\n",
      "for row in data:\n",
      "    country = row['Region']\n",
      "    scenario = row[\"Scenario\"]\n",
      "    year = row[\"Year\"]\n",
      "    item = row[\"Item\"]\n",
      "    metric = row[\"Metric\"]\n",
      "    stats = row[\"Stats\"]\n",
      "    subitem = row[\"Subitem\"]\n",
      "    cause_of_death = row[\"Cause of death\"]\n",
      "    value = abs(float(row[\"Value\"]))\n",
      "    if scenario == \"SSP2_CC\" and stats == \"mean\" and \\\n",
      "         item == \"deaths_avd\" and cause_of_death == \"all-c\" and metric == \"abs\" and subitem == \"ALL_SCN\":\n",
      "        if value > max:\n",
      "            max = value\n",
      "        if value < min:\n",
      "            min = value\n",
      "        total += value\n",
      "        i += 1\n",
      "avg = total / i"
     ],
     "language": "python",
     "metadata": {},
     "outputs": [],
     "prompt_number": 41
    },
    {
     "cell_type": "code",
     "collapsed": false,
     "input": [
      "min"
     ],
     "language": "python",
     "metadata": {},
     "outputs": [
      {
       "metadata": {},
       "output_type": "pyout",
       "prompt_number": 42,
       "text": [
        "2.1445449364073294e-05"
       ]
      }
     ],
     "prompt_number": 42
    },
    {
     "cell_type": "code",
     "collapsed": false,
     "input": [
      "max"
     ],
     "language": "python",
     "metadata": {},
     "outputs": [
      {
       "metadata": {},
       "output_type": "pyout",
       "prompt_number": 43,
       "text": [
        "895.043035115655"
       ]
      }
     ],
     "prompt_number": 43
    },
    {
     "cell_type": "code",
     "collapsed": false,
     "input": [
      "avg"
     ],
     "language": "python",
     "metadata": {},
     "outputs": [
      {
       "metadata": {},
       "output_type": "pyout",
       "prompt_number": 44,
       "text": [
        "5.409229347070671"
       ]
      }
     ],
     "prompt_number": 44
    },
    {
     "cell_type": "code",
     "collapsed": false,
     "input": [
      "min * 1000"
     ],
     "language": "python",
     "metadata": {},
     "outputs": [
      {
       "metadata": {},
       "output_type": "pyout",
       "prompt_number": 45,
       "text": [
        "0.021445449364073294"
       ]
      }
     ],
     "prompt_number": 45
    },
    {
     "cell_type": "code",
     "collapsed": false,
     "input": [
      "cow = []\n",
      "with open(\"cow.csv\", \"rb\") as csvfile:\n",
      "    reader = csv.DictReader(csvfile,delimiter=\";\")\n",
      "    for line in reader:\n",
      "        cow.append(line)\n"
     ],
     "language": "python",
     "metadata": {},
     "outputs": [],
     "prompt_number": 16
    },
    {
     "cell_type": "code",
     "collapsed": false,
     "input": [
      "cow[235]"
     ],
     "language": "python",
     "metadata": {},
     "outputs": [
      {
       "metadata": {},
       "output_type": "pyout",
       "prompt_number": 17,
       "text": [
        "{'BGN_capital': ' Washington, D.C.',\n",
        " 'BGN_demomyn_adj': ' American',\n",
        " 'BGN_demonym': ' American(s)',\n",
        " 'BGN_longname': ' United States of America',\n",
        " 'BGN_name': ' United States',\n",
        " 'BGN_proper': ' United States',\n",
        " 'BGNc_latitude': ' 38.8833333333',\n",
        " 'BGNc_longitude': ' -77.0333333333',\n",
        " 'BGNlc_longname': ' United States',\n",
        " 'BGNlc_name': ' United States of America',\n",
        " 'EKI_capital': ' Washington',\n",
        " 'EKI_longname': ' Ameerika \\xc3\\x9chendriigid',\n",
        " 'EKI_name': ' Ameerika \\xc3\\x9chendriigid',\n",
        " 'FAOit_longname': \" Stati Uniti d'America\",\n",
        " 'FAOit_name': \" Stati Uniti d'America\",\n",
        " 'FAOit_proper': \" Stati Uniti d'America\",\n",
        " 'FIPS104': ' US',\n",
        " 'HasCapital': ' 1',\n",
        " 'ISO3166A3': ' USA',\n",
        " 'ISO3166N3': ' 840',\n",
        " 'ISOen_name': ' United States',\n",
        " 'ISOen_proper': ' United States',\n",
        " 'ISOen_ro_name': ' United States',\n",
        " 'ISOen_ro_proper': ' United States',\n",
        " 'ISOes_name': ' Estados Unidos de Am\\xc3\\xa9rica',\n",
        " 'ISOfr_name': ' \\xc3\\x89tats-Unis',\n",
        " 'ISOfr_proper': ' \\xc3\\x89tats-Unis',\n",
        " 'ISOregion': ' 19',\n",
        " 'ISOsubregion': ' 21',\n",
        " 'ITU': ' 1',\n",
        " 'IVC': ' USA',\n",
        " 'PCGN_longname': ' United States of America',\n",
        " 'PCGN_name': ' United States',\n",
        " 'PCGN_proper': ' United States',\n",
        " 'UNGEGNen_longname': ' the United States of America',\n",
        " 'UNGEGNen_name': ' United States of America (the)',\n",
        " 'UNGEGNes_longname': ' los Estados Unidos de Am\\xc3\\xa9rica',\n",
        " 'UNGEGNes_name': ' Estados Unidos de Am\\xc3\\xa9rica (los)',\n",
        " 'UNGEGNfr_longname': \" les \\xc3\\x89tats-Unis d'Am\\xc3\\xa9rique\",\n",
        " 'UNGEGNfr_name': \" \\xc3\\x89tats-Unis d'Am\\xc3\\xa9rique (les)\",\n",
        " 'UNGEGNlc_capital': ' Washington, D.C.',\n",
        " 'UNGEGNlc_ro_longname': ' the United States of America',\n",
        " 'UNGEGNlc_ro_name': ' United States of America',\n",
        " 'UNGEGNru_longname': ' \\xd0\\xa1\\xd0\\xbe\\xd0\\xb5\\xd0\\xb4\\xd0\\xb8\\xd0\\xbd\\xd0\\xb5\\xd0\\xbd\\xd0\\xbd\\xd1\\x8b\\xd0\\xb5 \\xd0\\xa8\\xd1\\x82\\xd0\\xb0\\xd1\\x82\\xd1\\x8b \\xd0\\x90\\xd0\\xbc\\xd0\\xb5\\xd1\\x80\\xd0\\xb8\\xd0\\xba\\xd0\\xb8',\n",
        " 'UNGEGNru_name': ' \\xd0\\xa1\\xd0\\xbe\\xd0\\xb5\\xd0\\xb4\\xd0\\xb8\\xd0\\xbd\\xd0\\xb5\\xd0\\xbd\\xd0\\xbd\\xd1\\x8b\\xd0\\xb5 \\xd0\\xa8\\xd1\\x82\\xd0\\xb0\\xd1\\x82\\xd1\\x8b \\xd0\\x90\\xd0\\xbc\\xd0\\xb5\\xd1\\x80\\xd0\\xb8\\xd0\\xba\\xd0\\xb8',\n",
        " 'UNc_latitude': ' 38.82',\n",
        " 'UNc_longitude': ' -76.91',\n",
        " 'UNen_capital': ' Washington, D.C.',\n",
        " 'UNes_capital': ' Washington, D.C.',\n",
        " 'UNfr_capital': ' Washington, D.C.',\n",
        " 'UNru_capital': ' \\xd0\\x92\\xd0\\xb0\\xd1\\x88\\xd0\\xb8\\xd0\\xbd\\xd0\\xb3\\xd1\\x82\\xd0\\xbe\\xd0\\xbd',\n",
        " 'conabbr': ' ',\n",
        " 'continent': ' NA',\n",
        " 'land': ' 9161966',\n",
        " 'land_total': ' 9826675',\n",
        " 'language': ' en',\n",
        " 'latitude': ' 38',\n",
        " 'longitude': ' -97',\n",
        " 'maxlatitude': ' 71.39',\n",
        " 'maxlongitude': ' -66.9',\n",
        " 'minlatitude': ' 5.87',\n",
        " 'minlongitude': ' -180',\n",
        " 'population': ' 313847465',\n",
        " 'subcontinent': ' ',\n",
        " 'url_gis': ' usgs.gov',\n",
        " 'url_gov': ' us.gov',\n",
        " 'url_post': ' usps.com',\n",
        " 'url_stats': ' census.gov',\n",
        " 'water': ' 664709',\n",
        " 'year': ' 2012',\n",
        " '\\xef\\xbb\\xbfISO3166A2': 'US'}"
       ]
      }
     ],
     "prompt_number": 17
    },
    {
     "cell_type": "code",
     "collapsed": false,
     "input": [
      "country_centroids = {\n",
      "    \"type\": \"FeatureCollection\",\n",
      "    \"features\": [] \n",
      "}\n",
      "for row in cow:\n",
      "    idx = row['ISO3166A3'].strip()\n",
      "    name = row['ISOen_name'].strip()\n",
      "    lng = row['UNc_longitude'].strip()\n",
      "    if lng == \"\":\n",
      "        lng = row['BGNc_longitude'].strip()\n",
      "    lat = row['UNc_latitude'].strip()\n",
      "    if lat == \"\":\n",
      "        lat = row['BGNc_latitude'].strip()\n",
      "    \n",
      "    feature = {\"type\":\"Feature\", \n",
      "               \"id\": idx,\n",
      "               \"properties\": {\n",
      "                    \"name\": name\n",
      "                },\n",
      "               \"geometry\": {\n",
      "                    \"type\": \"Point\",\n",
      "                    \"coordinates\": [float(lng), float(lat)]\n",
      "                }\n",
      "               }\n",
      "    country_centroids[\"features\"].append(feature)"
     ],
     "language": "python",
     "metadata": {},
     "outputs": [],
     "prompt_number": 12
    },
    {
     "cell_type": "code",
     "collapsed": false,
     "input": [
      "' afoo'.strip()"
     ],
     "language": "python",
     "metadata": {},
     "outputs": [
      {
       "metadata": {},
       "output_type": "pyout",
       "prompt_number": 13,
       "text": [
        "'afoo'"
       ]
      }
     ],
     "prompt_number": 13
    },
    {
     "cell_type": "code",
     "collapsed": false,
     "input": [
      "country_centroids['features'][201]"
     ],
     "language": "python",
     "metadata": {},
     "outputs": [
      {
       "metadata": {},
       "output_type": "pyout",
       "prompt_number": 14,
       "text": [
        "{'geometry': {'coordinates': [17.15, 48.13], 'type': 'Point'},\n",
        " 'id': 'SVK',\n",
        " 'properties': {'name': 'Slovakia'},\n",
        " 'type': 'Feature'}"
       ]
      }
     ],
     "prompt_number": 14
    },
    {
     "cell_type": "code",
     "collapsed": false,
     "input": [
      "cow[4]"
     ],
     "language": "python",
     "metadata": {},
     "outputs": [
      {
       "metadata": {},
       "output_type": "pyout",
       "prompt_number": 67,
       "text": [
        "{'BGN_capital': ' Pago Pago',\n",
        " 'BGN_demomyn_adj': ' American Samoan',\n",
        " 'BGN_demonym': ' American Samoan(s)',\n",
        " 'BGN_longname': ' Territory of American Samoa',\n",
        " 'BGN_name': ' American Samoa',\n",
        " 'BGN_proper': ' American Samoa',\n",
        " 'BGNc_latitude': ' -14.2666666667',\n",
        " 'BGNc_longitude': ' -170.7',\n",
        " 'BGNlc_longname': ' American Samoa',\n",
        " 'BGNlc_name': ' Territory of American Samoa',\n",
        " 'EKI_capital': ' Pago Pago',\n",
        " 'EKI_longname': ' Ameerika Samoa',\n",
        " 'EKI_name': ' Ameerika Samoa/Ida-Samoa',\n",
        " 'FAOit_longname': ' Territorio delle Samoa americane',\n",
        " 'FAOit_name': ' Samoa americane',\n",
        " 'FAOit_proper': ' Samoa americane',\n",
        " 'FIPS104': ' AQ',\n",
        " 'HasCapital': ' 1',\n",
        " 'ISO3166A3': ' ASM',\n",
        " 'ISO3166N3': ' 16',\n",
        " 'ISOen_name': ' American Samoa',\n",
        " 'ISOen_proper': ' American Samoa',\n",
        " 'ISOen_ro_name': ' American Samoa',\n",
        " 'ISOen_ro_proper': ' American Samoa',\n",
        " 'ISOes_name': ' Samoa Americana',\n",
        " 'ISOfr_name': ' Samoa Am\\xc3\\xa9ricaines',\n",
        " 'ISOfr_proper': ' Samoa Am\\xc3\\xa9ricaines',\n",
        " 'ISOregion': ' 9',\n",
        " 'ISOsubregion': ' 61',\n",
        " 'ITU': ' 1',\n",
        " 'IVC': ' ',\n",
        " 'PCGN_longname': ' ',\n",
        " 'PCGN_name': ' ',\n",
        " 'PCGN_proper': ' ',\n",
        " 'UNGEGNen_longname': ' ',\n",
        " 'UNGEGNen_name': ' ',\n",
        " 'UNGEGNes_longname': ' ',\n",
        " 'UNGEGNes_name': ' ',\n",
        " 'UNGEGNfr_longname': ' ',\n",
        " 'UNGEGNfr_name': ' ',\n",
        " 'UNGEGNlc_capital': ' Pago Pago',\n",
        " 'UNGEGNlc_ro_longname': ' ',\n",
        " 'UNGEGNlc_ro_name': ' ',\n",
        " 'UNGEGNru_longname': ' ',\n",
        " 'UNGEGNru_name': ' ',\n",
        " 'UNc_latitude': ' ',\n",
        " 'UNc_longitude': ' ',\n",
        " 'UNen_capital': ' ',\n",
        " 'UNes_capital': ' ',\n",
        " 'UNfr_capital': ' ',\n",
        " 'UNru_capital': ' ',\n",
        " 'conabbr': ' ',\n",
        " 'continent': ' OC',\n",
        " 'land': ' 199',\n",
        " 'land_total': ' 199',\n",
        " 'language': ' en,sm',\n",
        " 'latitude': ' -14.3333333333',\n",
        " 'longitude': ' -170',\n",
        " 'maxlatitude': ' -14.15',\n",
        " 'maxlongitude': ' -170.87',\n",
        " 'minlatitude': ' -14.4',\n",
        " 'minlongitude': ' -169.41',\n",
        " 'population': ' 68061',\n",
        " 'subcontinent': ' ',\n",
        " 'url_gis': ' ',\n",
        " 'url_gov': ' americansamoa.gov',\n",
        " 'url_post': ' usps.gov',\n",
        " 'url_stats': ' census.gov',\n",
        " 'water': ' ',\n",
        " 'year': ' 2012',\n",
        " '\\xef\\xbb\\xbfISO3166A2': 'AS'}"
       ]
      }
     ],
     "prompt_number": 67
    },
    {
     "cell_type": "code",
     "collapsed": false,
     "input": [
      "with open('country_centroids.geojson', 'w') as f:\n",
      "    json.dump(country_centroids, f, indent=4)"
     ],
     "language": "python",
     "metadata": {},
     "outputs": [],
     "prompt_number": 74
    },
    {
     "cell_type": "code",
     "collapsed": false,
     "input": [
      "future_of_food['USA']"
     ],
     "language": "python",
     "metadata": {},
     "outputs": [
      {
       "metadata": {},
       "output_type": "pyout",
       "prompt_number": 20,
       "text": [
        "{'scenarios': [{'scenario': 'SSP2_CC',\n",
        "   'years': [{'value': 6.140880394800675, 'year': '2015'},\n",
        "    {'value': 12.591976686043601, 'year': '2020'},\n",
        "    {'value': 19.058991288663925, 'year': '2025'},\n",
        "    {'value': 25.07504193179712, 'year': '2030'},\n",
        "    {'value': 30.872609175012133, 'year': '2035'},\n",
        "    {'value': 36.429811998179694, 'year': '2040'},\n",
        "    {'value': 40.35239015125067, 'year': '2045'},\n",
        "    {'value': 42.92406283764092, 'year': '2050'}]},\n",
        "  {'scenario': 'SSP2_NoCC',\n",
        "   'years': [{'value': 6.94723401391348, 'year': '2015'},\n",
        "    {'value': 14.178147477872304, 'year': '2020'},\n",
        "    {'value': 21.404285437641157, 'year': '2025'},\n",
        "    {'value': 28.4195482957675, 'year': '2030'},\n",
        "    {'value': 35.473882342820694, 'year': '2035'},\n",
        "    {'value': 42.36624771606691, 'year': '2040'},\n",
        "    {'value': 47.658854765567426, 'year': '2045'},\n",
        "    {'value': 51.56632891363059, 'year': '2050'}]}]}"
       ]
      }
     ],
     "prompt_number": 20
    },
    {
     "cell_type": "code",
     "collapsed": false,
     "input": [
      "country_centroids_revised = {\n",
      "    \"type\": \"FeatureCollection\",\n",
      "    \"features\": [] \n",
      "}\n",
      "for feature in country_centroids['features']:\n",
      "    country = feature['id']\n",
      "    if future_of_food.has_key(country):\n",
      "        feature['properties']['scenarios'] = future_of_food[country]['scenarios']\n",
      "        country_centroids_revised[\"features\"].append(feature)\n",
      "        "
     ],
     "language": "python",
     "metadata": {},
     "outputs": [],
     "prompt_number": 16
    },
    {
     "cell_type": "code",
     "collapsed": false,
     "input": [
      "len(country_centroids_revised['features'])"
     ],
     "language": "python",
     "metadata": {},
     "outputs": [
      {
       "metadata": {},
       "output_type": "pyout",
       "prompt_number": 17,
       "text": [
        "188"
       ]
      }
     ],
     "prompt_number": 17
    },
    {
     "cell_type": "code",
     "collapsed": false,
     "input": [
      "with open('fof.geojson', 'w') as f:\n",
      "    json.dump(country_centroids_revised, f, indent=4)"
     ],
     "language": "python",
     "metadata": {},
     "outputs": [],
     "prompt_number": 100
    },
    {
     "cell_type": "code",
     "collapsed": false,
     "input": [
      "len(future_of_food.keys())"
     ],
     "language": "python",
     "metadata": {},
     "outputs": [
      {
       "metadata": {},
       "output_type": "pyout",
       "prompt_number": 18,
       "text": [
        "188"
       ]
      }
     ],
     "prompt_number": 18
    },
    {
     "cell_type": "code",
     "collapsed": false,
     "input": [
      "country_centroids_revised['features'][0]['properties']['scenarios'][0]['years'][0]"
     ],
     "language": "python",
     "metadata": {},
     "outputs": [
      {
       "metadata": {},
       "output_type": "pyout",
       "prompt_number": 29,
       "text": [
        "{'value': 0.02773524186028962, 'year': '2015'}"
       ]
      }
     ],
     "prompt_number": 29
    },
    {
     "cell_type": "code",
     "collapsed": false,
     "input": [
      "def compare_features(feature1, feature2):\n",
      "    min1 = min2 = 0.0\n",
      "    for year in feature2['properties']['scenarios'][0]['years']:\n",
      "        if abs(year['value']) > min2:\n",
      "            min2 = abs(year['value'])\n",
      "    for year in feature1['properties']['scenarios'][0]['years']:\n",
      "        if abs(year['value']) > min1:\n",
      "            min1 = abs(year['value'])\n",
      "\n",
      "    return int(min2 - min1)"
     ],
     "language": "python",
     "metadata": {},
     "outputs": [],
     "prompt_number": 21
    },
    {
     "cell_type": "code",
     "collapsed": false,
     "input": [
      "sorted_features = sorted(country_centroids_revised['features'], cmp=compare_features)\n",
      "country_centroids_revised['features'] = sorted_features"
     ],
     "language": "python",
     "metadata": {},
     "outputs": [],
     "prompt_number": 61
    },
    {
     "cell_type": "code",
     "collapsed": false,
     "input": [
      "with open('fof.geojson', 'w') as f:\n",
      "    json.dump(country_centroids_revised, f, indent=4)"
     ],
     "language": "python",
     "metadata": {},
     "outputs": [],
     "prompt_number": 62
    },
    {
     "cell_type": "code",
     "collapsed": false,
     "input": [
      "country_centroids_revised['features'][0]"
     ],
     "language": "python",
     "metadata": {},
     "outputs": [
      {
       "metadata": {},
       "output_type": "pyout",
       "prompt_number": 50,
       "text": [
        "{'geometry': {'coordinates': [69.17, 34.49], 'type': 'Point'},\n",
        " 'id': 'AFG',\n",
        " 'properties': {'name': 'Afghanistan',\n",
        "  'scenarios': [{'scenario': 'SSP2_CC',\n",
        "    'years': [{'value': 0.02773524186028962, 'year': '2015'},\n",
        "     {'value': -0.22495453663327716, 'year': '2020'},\n",
        "     {'value': -0.2964505654695508, 'year': '2025'},\n",
        "     {'value': -0.059202745694640714, 'year': '2030'},\n",
        "     {'value': 0.26320117684250505, 'year': '2035'},\n",
        "     {'value': 0.6902378939758366, 'year': '2040'},\n",
        "     {'value': 1.1896709329954753, 'year': '2045'},\n",
        "     {'value': 1.7858147015623205, 'year': '2050'}]},\n",
        "   {'scenario': 'SSP2_NoCC',\n",
        "    'years': [{'value': 0.1559996024924935, 'year': '2015'},\n",
        "     {'value': 0.06410352862087959, 'year': '2020'},\n",
        "     {'value': 0.1865201501313533, 'year': '2025'},\n",
        "     {'value': 0.6263510912479127, 'year': '2030'},\n",
        "     {'value': 1.1733113495532996, 'year': '2035'},\n",
        "     {'value': 1.847584559322509, 'year': '2040'},\n",
        "     {'value': 2.623228075674989, 'year': '2045'},\n",
        "     {'value': 3.4900075916547784, 'year': '2050'}]}]},\n",
        " 'type': 'Feature'}"
       ]
      }
     ],
     "prompt_number": 50
    },
    {
     "cell_type": "code",
     "collapsed": false,
     "input": [
      "import numpy as np\n",
      "import matplotlib.pyplot as plt"
     ],
     "language": "python",
     "metadata": {},
     "outputs": [],
     "prompt_number": 66
    },
    {
     "cell_type": "code",
     "collapsed": false,
     "input": [
      "values= []\n",
      "for feature in country_centroids_revised['features']:\n",
      "    years = feature['properties']['scenarios'][0]['years']\n",
      "    for year in years:\n",
      "        values.append(abs(year['value']))\n",
      "len(values)"
     ],
     "language": "python",
     "metadata": {},
     "outputs": [
      {
       "metadata": {},
       "output_type": "pyout",
       "prompt_number": 88,
       "text": [
        "1504"
       ]
      }
     ],
     "prompt_number": 88
    },
    {
     "cell_type": "code",
     "collapsed": false,
     "input": [
      "plt.hist(values,bins=80)\n",
      "plt.show()"
     ],
     "language": "python",
     "metadata": {},
     "outputs": [],
     "prompt_number": 84
    },
    {
     "cell_type": "code",
     "collapsed": false,
     "input": [
      "small_values= []\n",
      "for feature in country_centroids_revised['features']:\n",
      "    years = feature['properties']['scenarios'][0]['years']\n",
      "    for year in years:\n",
      "        if abs(year['value']) < 10.0:\n",
      "            small_values.append(abs(year['value']))\n",
      "len(small_values)"
     ],
     "language": "python",
     "metadata": {},
     "outputs": [
      {
       "metadata": {},
       "output_type": "pyout",
       "prompt_number": 102,
       "text": [
        "1444"
       ]
      }
     ],
     "prompt_number": 102
    },
    {
     "cell_type": "code",
     "collapsed": false,
     "input": [
      "plt.hist(small_values,bins=20)\n",
      "plt.show()"
     ],
     "language": "python",
     "metadata": {},
     "outputs": [],
     "prompt_number": 103
    },
    {
     "cell_type": "code",
     "collapsed": false,
     "input": [
      "med_values= []\n",
      "for feature in country_centroids_revised['features']:\n",
      "    years = feature['properties']['scenarios'][0]['years']\n",
      "    for year in years:\n",
      "        if abs(year['value']) > 10.0 and abs(year['value']) < 100.0:\n",
      "            med_values.append(abs(year['value']))\n",
      "len(med_values)"
     ],
     "language": "python",
     "metadata": {},
     "outputs": [
      {
       "metadata": {},
       "output_type": "pyout",
       "prompt_number": 104,
       "text": [
        "45"
       ]
      }
     ],
     "prompt_number": 104
    },
    {
     "cell_type": "code",
     "collapsed": false,
     "input": [
      "plt.hist(med_values,bins=20)\n",
      "plt.show()"
     ],
     "language": "python",
     "metadata": {},
     "outputs": [],
     "prompt_number": 105
    },
    {
     "cell_type": "code",
     "collapsed": false,
     "input": [
      "lrg_values= []\n",
      "for feature in country_centroids_revised['features']:\n",
      "    years = feature['properties']['scenarios'][0]['years']\n",
      "    for year in years:\n",
      "        if abs(year['value']) > 100.0 and abs(year['value']) < 1000.0:\n",
      "            lrg_values.append(abs(year['value']))\n",
      "len(lrg_values)"
     ],
     "language": "python",
     "metadata": {},
     "outputs": [
      {
       "metadata": {},
       "output_type": "pyout",
       "prompt_number": 100,
       "text": [
        "15"
       ]
      }
     ],
     "prompt_number": 100
    },
    {
     "cell_type": "code",
     "collapsed": false,
     "input": [
      "plt.hist(lrg_values,bins=20)\n",
      "plt.show()"
     ],
     "language": "python",
     "metadata": {},
     "outputs": [],
     "prompt_number": 101
    },
    {
     "cell_type": "code",
     "collapsed": false,
     "input": [
      "countries_revised = {\n",
      "    \"type\": \"FeatureCollection\",\n",
      "    \"features\": [] \n",
      "}\n",
      "for feature in countries['features']:\n",
      "    country = feature['id']\n",
      "    if future_of_food.has_key(country):\n",
      "        feature['properties']['scenarios'] = future_of_food[country]['scenarios']\n",
      "        countries_revised[\"features\"].append(feature)\n",
      "        "
     ],
     "language": "python",
     "metadata": {},
     "outputs": [],
     "prompt_number": 8
    },
    {
     "cell_type": "code",
     "collapsed": false,
     "input": [
      "len(countries_revised['features'])"
     ],
     "language": "python",
     "metadata": {},
     "outputs": [
      {
       "metadata": {},
       "output_type": "pyout",
       "prompt_number": 9,
       "text": [
        "164"
       ]
      }
     ],
     "prompt_number": 9
    },
    {
     "cell_type": "code",
     "collapsed": false,
     "input": [
      "with open('future_of_food.geojson', 'w') as f:\n",
      "    json.dump(countries_revised, f, indent=4)"
     ],
     "language": "python",
     "metadata": {},
     "outputs": [],
     "prompt_number": 10
    },
    {
     "cell_type": "code",
     "collapsed": false,
     "input": [
      "country_centroids = {\n",
      "    \"type\": \"FeatureCollection\",\n",
      "    \"features\": [] \n",
      "}\n",
      "for row in cow:\n",
      "    idx = row['ISO3166A3'].strip()\n",
      "    name = row['ISOen_name'].strip()\n",
      "    lng = row['longitude'].strip()\n",
      "    lat = row['latitude'].strip()\n",
      "    feature = {\"type\":\"Feature\", \n",
      "               \"id\": idx,\n",
      "               \"properties\": {\n",
      "                    \"name\": name\n",
      "                },\n",
      "               \"geometry\": {\n",
      "                    \"type\": \"Point\",\n",
      "                    \"coordinates\": [float(lng), float(lat)]\n",
      "                }\n",
      "               }\n",
      "    country_centroids[\"features\"].append(feature)"
     ],
     "language": "python",
     "metadata": {},
     "outputs": [],
     "prompt_number": 18
    },
    {
     "cell_type": "code",
     "collapsed": false,
     "input": [
      "country_centroids[\"features\"][0]"
     ],
     "language": "python",
     "metadata": {},
     "outputs": [
      {
       "metadata": {},
       "output_type": "pyout",
       "prompt_number": 19,
       "text": [
        "{'geometry': {'coordinates': [65.0, 33.0], 'type': 'Point'},\n",
        " 'id': 'AFG',\n",
        " 'properties': {'name': 'Afghanistan'},\n",
        " 'type': 'Feature'}"
       ]
      }
     ],
     "prompt_number": 19
    },
    {
     "cell_type": "code",
     "collapsed": false,
     "input": [
      "country_centroids_revised = {\n",
      "    \"type\": \"FeatureCollection\",\n",
      "    \"features\": [] \n",
      "}\n",
      "for feature in country_centroids['features']:\n",
      "    country = feature['id']\n",
      "    if future_of_food.has_key(country):\n",
      "        feature['properties']['scenarios'] = future_of_food[country]['scenarios']\n",
      "        country_centroids_revised[\"features\"].append(feature)\n",
      "        "
     ],
     "language": "python",
     "metadata": {},
     "outputs": [],
     "prompt_number": 22
    },
    {
     "cell_type": "code",
     "collapsed": false,
     "input": [
      "country_centroids_revised[\"features\"][0]"
     ],
     "language": "python",
     "metadata": {},
     "outputs": [
      {
       "metadata": {},
       "output_type": "pyout",
       "prompt_number": 23,
       "text": [
        "{'geometry': {'coordinates': [65.0, 33.0], 'type': 'Point'},\n",
        " 'id': 'AFG',\n",
        " 'properties': {'name': 'Afghanistan',\n",
        "  'scenarios': [{'scenario': 'SSP2_CC',\n",
        "    'years': [{'value': 0.02773524186028962, 'year': '2015'},\n",
        "     {'value': -0.22495453663327716, 'year': '2020'},\n",
        "     {'value': -0.2964505654695508, 'year': '2025'},\n",
        "     {'value': -0.059202745694640714, 'year': '2030'},\n",
        "     {'value': 0.26320117684250505, 'year': '2035'},\n",
        "     {'value': 0.6902378939758366, 'year': '2040'},\n",
        "     {'value': 1.1896709329954753, 'year': '2045'},\n",
        "     {'value': 1.7858147015623205, 'year': '2050'}]},\n",
        "   {'scenario': 'SSP2_NoCC',\n",
        "    'years': [{'value': 0.1559996024924935, 'year': '2015'},\n",
        "     {'value': 0.06410352862087959, 'year': '2020'},\n",
        "     {'value': 0.1865201501313533, 'year': '2025'},\n",
        "     {'value': 0.6263510912479127, 'year': '2030'},\n",
        "     {'value': 1.1733113495532996, 'year': '2035'},\n",
        "     {'value': 1.847584559322509, 'year': '2040'},\n",
        "     {'value': 2.623228075674989, 'year': '2045'},\n",
        "     {'value': 3.4900075916547784, 'year': '2050'}]}]},\n",
        " 'type': 'Feature'}"
       ]
      }
     ],
     "prompt_number": 23
    },
    {
     "cell_type": "code",
     "collapsed": false,
     "input": [],
     "language": "python",
     "metadata": {},
     "outputs": []
    }
   ],
   "metadata": {}
  }
 ]
}