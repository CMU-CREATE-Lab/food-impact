{
 "metadata": {
  "name": "",
  "signature": "sha256:e610135164cfad9134a5693793a674db4106b4d3728ad3961bbb578ded32f25f"
 },
 "nbformat": 3,
 "nbformat_minor": 0,
 "worksheets": [
  {
   "cells": [
    {
     "cell_type": "code",
     "collapsed": false,
     "input": [
      "import array\n",
      "import csv, json\n",
      "srcfile = 'results.csv'\n",
      "import math\n",
      "import numpy as np\n",
      "import matplotlib.pyplot as plt\n",
      "from operator import itemgetter\n",
      "from PIL import Image\n",
      "\n",
      "def LonLatToPixelXY(lonlat):\n",
      "    (lon, lat) = lonlat\n",
      "    x = (lon + 180.0) * 256.0 / 360.0\n",
      "    y = 128.0 - math.log(math.tan((lat + 90.0) * math.pi / 360.0)) * 128.0 / math.pi\n",
      "    return [x, y]\n",
      "\n",
      "def split_list(alist, wanted_parts=1):\n",
      "    length = len(alist)\n",
      "    return [ alist[i*length // wanted_parts: (i+1)*length // wanted_parts] \n",
      "             for i in range(wanted_parts) ]\n",
      "\n",
      "def getSmallestAbsoluteKey(item):\n",
      "    #return min(abs(item[3]), abs(item(4)))\n",
      "    return min(abs(item[3]),abs(item[4]))\n",
      "\n",
      "import matplotlib.colors as colors\n",
      "def hex_to_rgb(hex_string):\n",
      "    rgb = colors.hex2color(hex_string)\n",
      "    r,g,b = tuple([int(255*x) for x in rgb])\n",
      "    return (r,g,b)"
     ],
     "language": "python",
     "metadata": {},
     "outputs": []
    },
    {
     "cell_type": "code",
     "collapsed": false,
     "input": [
      "data = []\n",
      "with open(srcfile, \"rb\") as csvfile:\n",
      "    reader = csv.DictReader(csvfile)\n",
      "    for line in reader:\n",
      "        data.append(line)\n"
     ],
     "language": "python",
     "metadata": {},
     "outputs": []
    },
    {
     "cell_type": "code",
     "collapsed": false,
     "input": [
      "data[0]"
     ],
     "language": "python",
     "metadata": {},
     "outputs": []
    },
    {
     "cell_type": "code",
     "collapsed": false,
     "input": [
      "with open(\"countries.geojson\") as f:\n",
      "    countries = json.load(f)\n"
     ],
     "language": "python",
     "metadata": {},
     "outputs": []
    },
    {
     "cell_type": "code",
     "collapsed": false,
     "input": [
      "min = 1.0\n",
      "max = -1.0\n",
      "total = 0\n",
      "i = 0\n",
      "for row in data:\n",
      "    country = row['Region']\n",
      "    scenario = row[\"Scenario\"]\n",
      "    year = row[\"Year\"]\n",
      "    item = row[\"Item\"]\n",
      "    metric = row[\"Metric\"]\n",
      "    stats = row[\"Stats\"]\n",
      "    subitem = row[\"Subitem\"]\n",
      "    cause_of_death = row[\"Cause of death\"]\n",
      "    value = float(row[\"Value\"])\n",
      "    if scenario == \"SSP2_CC\" and stats == \"mean\" and \\\n",
      "         item == \"deaths_avd\" and cause_of_death == \"all-c\" and metric == \"abs\" and subitem == \"ALL_SCN\":\n",
      "        if value > max:\n",
      "            max = value\n",
      "        if value < min:\n",
      "            min = value\n",
      "        total += value\n",
      "        i += 1\n",
      "avg = total / i"
     ],
     "language": "python",
     "metadata": {},
     "outputs": []
    },
    {
     "cell_type": "code",
     "collapsed": false,
     "input": [
      "print \"min: %s, max: %s, avg: %s\" % (min, max, avg)"
     ],
     "language": "python",
     "metadata": {},
     "outputs": []
    },
    {
     "cell_type": "code",
     "collapsed": false,
     "input": [
      "future_of_food = {}\n",
      "for row in data:\n",
      "    country = row['Region']\n",
      "    scenario = row[\"Scenario\"]\n",
      "    year = row[\"Year\"]\n",
      "    item = row[\"Item\"]\n",
      "    metric = row[\"Metric\"]\n",
      "    stats = row[\"Stats\"]\n",
      "    subitem = row[\"Subitem\"]\n",
      "    cause_of_death = row[\"Cause of death\"]\n",
      "    value = float(row[\"Value\"])\n",
      "    if (scenario == \"SSP2_CC\" or scenario == \"SSP2_NoCC\") and stats == \"mean\" and \\\n",
      "         item == \"deaths_avd\" and cause_of_death == \"all-c\" and metric == \"abs\" and subitem == \"ALL_SCN\":\n",
      "        if not future_of_food.has_key(country):\n",
      "            future_of_food[country] = {\"scenarios\": []}\n",
      "            future_of_food[country][\"scenarios\"].append({\"scenario\": \"SSP2_CC\", \"years\":[]})\n",
      "            future_of_food[country][\"scenarios\"].append({\"scenario\": \"SSP2_NoCC\", \"years\":[]})\n",
      "        val = {\"year\": year, \"value\": value}\n",
      "        if scenario == \"SSP2_CC\":\n",
      "            future_of_food[country][\"scenarios\"][0][\"years\"].append(val)\n",
      "        if scenario == \"SSP2_NoCC\":\n",
      "            future_of_food[country][\"scenarios\"][1][\"years\"].append(val)\n"
     ],
     "language": "python",
     "metadata": {},
     "outputs": []
    },
    {
     "cell_type": "code",
     "collapsed": false,
     "input": [
      "countries['features'][0]['id']"
     ],
     "language": "python",
     "metadata": {},
     "outputs": []
    },
    {
     "cell_type": "code",
     "collapsed": false,
     "input": [
      "future_of_food['AFG']"
     ],
     "language": "python",
     "metadata": {},
     "outputs": []
    },
    {
     "cell_type": "code",
     "collapsed": false,
     "input": [
      "for feature in countries['features']:\n",
      "    country = feature['id']\n",
      "    if future_of_food.has_key(country):\n",
      "        feature['properties']['scenarios'] = future_of_food[country]['scenarios']"
     ],
     "language": "python",
     "metadata": {},
     "outputs": []
    },
    {
     "cell_type": "code",
     "collapsed": false,
     "input": [
      "countries['features'][0]['properties']"
     ],
     "language": "python",
     "metadata": {},
     "outputs": []
    },
    {
     "cell_type": "code",
     "collapsed": false,
     "input": [
      "with open('future_of_food.geojson', 'w') as f:\n",
      "    json.dump(countries, f, indent=4)"
     ],
     "language": "python",
     "metadata": {},
     "outputs": []
    },
    {
     "cell_type": "code",
     "collapsed": false,
     "input": [
      "future_of_food['USA']"
     ],
     "language": "python",
     "metadata": {},
     "outputs": []
    },
    {
     "cell_type": "code",
     "collapsed": false,
     "input": [
      "min = 10.0\n",
      "max = -1.0\n",
      "total = 0\n",
      "i = 0\n",
      "for row in data:\n",
      "    country = row['Region']\n",
      "    scenario = row[\"Scenario\"]\n",
      "    year = row[\"Year\"]\n",
      "    item = row[\"Item\"]\n",
      "    metric = row[\"Metric\"]\n",
      "    stats = row[\"Stats\"]\n",
      "    subitem = row[\"Subitem\"]\n",
      "    cause_of_death = row[\"Cause of death\"]\n",
      "    value = abs(float(row[\"Value\"]))\n",
      "    if scenario == \"SSP2_CC\" and stats == \"mean\" and \\\n",
      "         item == \"deaths_avd\" and cause_of_death == \"all-c\" and metric == \"abs\" and subitem == \"ALL_SCN\":\n",
      "        if value > max:\n",
      "            max = value\n",
      "        if value < min:\n",
      "            min = value\n",
      "        total += value\n",
      "        i += 1\n",
      "avg = total / i"
     ],
     "language": "python",
     "metadata": {},
     "outputs": []
    },
    {
     "cell_type": "code",
     "collapsed": false,
     "input": [
      "min"
     ],
     "language": "python",
     "metadata": {},
     "outputs": []
    },
    {
     "cell_type": "code",
     "collapsed": false,
     "input": [
      "max"
     ],
     "language": "python",
     "metadata": {},
     "outputs": []
    },
    {
     "cell_type": "code",
     "collapsed": false,
     "input": [
      "avg"
     ],
     "language": "python",
     "metadata": {},
     "outputs": []
    },
    {
     "cell_type": "code",
     "collapsed": false,
     "input": [
      "min * 1000"
     ],
     "language": "python",
     "metadata": {},
     "outputs": []
    },
    {
     "cell_type": "code",
     "collapsed": false,
     "input": [
      "cow = []\n",
      "with open(\"cow.csv\", \"rb\") as csvfile:\n",
      "    reader = csv.DictReader(csvfile,delimiter=\";\")\n",
      "    for line in reader:\n",
      "        cow.append(line)\n"
     ],
     "language": "python",
     "metadata": {},
     "outputs": []
    },
    {
     "cell_type": "code",
     "collapsed": false,
     "input": [
      "country_centroids = {\n",
      "    \"type\": \"FeatureCollection\",\n",
      "    \"features\": [] \n",
      "}\n",
      "for row in cow:\n",
      "    idx = row['ISO3166A3'].strip()\n",
      "    name = row['ISOen_name'].strip()\n",
      "    lng = row['UNc_longitude'].strip()\n",
      "    if lng == \"\":\n",
      "        lng = row['BGNc_longitude'].strip()\n",
      "    lat = row['UNc_latitude'].strip()\n",
      "    if lat == \"\":\n",
      "        lat = row['BGNc_latitude'].strip()\n",
      "    \n",
      "    feature = {\"type\":\"Feature\", \n",
      "               \"id\": idx,\n",
      "               \"properties\": {\n",
      "                    \"name\": name\n",
      "                },\n",
      "               \"geometry\": {\n",
      "                    \"type\": \"Point\",\n",
      "                    \"coordinates\": [float(lng), float(lat)]\n",
      "                }\n",
      "               }\n",
      "    country_centroids[\"features\"].append(feature)"
     ],
     "language": "python",
     "metadata": {},
     "outputs": []
    },
    {
     "cell_type": "code",
     "collapsed": false,
     "input": [
      "with open('country_centroids.geojson', 'w') as f:\n",
      "    json.dump(country_centroids, f, indent=4)"
     ],
     "language": "python",
     "metadata": {},
     "outputs": []
    },
    {
     "cell_type": "code",
     "collapsed": false,
     "input": [
      "future_of_food['USA']"
     ],
     "language": "python",
     "metadata": {},
     "outputs": []
    },
    {
     "cell_type": "code",
     "collapsed": false,
     "input": [
      "country_centroids_revised = {\n",
      "    \"type\": \"FeatureCollection\",\n",
      "    \"features\": [] \n",
      "}\n",
      "for feature in country_centroids['features']:\n",
      "    country = feature['id']\n",
      "    if future_of_food.has_key(country):\n",
      "        feature['properties']['scenarios'] = future_of_food[country]['scenarios']\n",
      "        country_centroids_revised[\"features\"].append(feature)\n",
      "        "
     ],
     "language": "python",
     "metadata": {},
     "outputs": []
    },
    {
     "cell_type": "code",
     "collapsed": false,
     "input": [
      "len(country_centroids_revised['features'])"
     ],
     "language": "python",
     "metadata": {},
     "outputs": []
    },
    {
     "cell_type": "code",
     "collapsed": false,
     "input": [
      "with open('fof.geojson', 'w') as f:\n",
      "    json.dump(country_centroids_revised, f, indent=4)"
     ],
     "language": "python",
     "metadata": {},
     "outputs": []
    },
    {
     "cell_type": "code",
     "collapsed": false,
     "input": [
      "len(future_of_food.keys())"
     ],
     "language": "python",
     "metadata": {},
     "outputs": []
    },
    {
     "cell_type": "code",
     "collapsed": false,
     "input": [
      "country_centroids_revised['features'][0]['properties']['scenarios'][0]['years'][0]"
     ],
     "language": "python",
     "metadata": {},
     "outputs": []
    },
    {
     "cell_type": "code",
     "collapsed": false,
     "input": [
      "sorted_features = sorted(country_centroids_revised['features'], cmp=compare_features)\n",
      "country_centroids_revised['features'] = sorted_features"
     ],
     "language": "python",
     "metadata": {},
     "outputs": []
    },
    {
     "cell_type": "code",
     "collapsed": false,
     "input": [
      "with open('fof.geojson', 'w') as f:\n",
      "    json.dump(country_centroids_revised, f, indent=4)"
     ],
     "language": "python",
     "metadata": {},
     "outputs": []
    },
    {
     "cell_type": "code",
     "collapsed": false,
     "input": [
      "country_centroids_revised['features'][0]"
     ],
     "language": "python",
     "metadata": {},
     "outputs": []
    },
    {
     "cell_type": "code",
     "collapsed": false,
     "input": [
      "values= []\n",
      "for feature in country_centroids_revised['features']:\n",
      "    years = feature['properties']['scenarios'][0]['years']\n",
      "    for year in years:\n",
      "        values.append(abs(year['value']))\n",
      "len(values)"
     ],
     "language": "python",
     "metadata": {},
     "outputs": []
    },
    {
     "cell_type": "code",
     "collapsed": false,
     "input": [
      "plt.hist(values,bins=80)\n",
      "plt.show()"
     ],
     "language": "python",
     "metadata": {},
     "outputs": []
    },
    {
     "cell_type": "code",
     "collapsed": false,
     "input": [
      "small_values= []\n",
      "for feature in country_centroids_revised['features']:\n",
      "    years = feature['properties']['scenarios'][0]['years']\n",
      "    for year in years:\n",
      "        if abs(year['value']) < 10.0:\n",
      "            small_values.append(abs(year['value']))\n",
      "len(small_values)"
     ],
     "language": "python",
     "metadata": {},
     "outputs": []
    },
    {
     "cell_type": "code",
     "collapsed": false,
     "input": [
      "plt.hist(small_values,bins=20)\n",
      "plt.show()"
     ],
     "language": "python",
     "metadata": {},
     "outputs": []
    },
    {
     "cell_type": "code",
     "collapsed": false,
     "input": [
      "med_values= []\n",
      "for feature in country_centroids_revised['features']:\n",
      "    years = feature['properties']['scenarios'][0]['years']\n",
      "    for year in years:\n",
      "        if abs(year['value']) > 10.0 and abs(year['value']) < 100.0:\n",
      "            med_values.append(abs(year['value']))\n",
      "len(med_values)"
     ],
     "language": "python",
     "metadata": {},
     "outputs": []
    },
    {
     "cell_type": "code",
     "collapsed": false,
     "input": [
      "plt.hist(med_values,bins=20)\n",
      "plt.show()"
     ],
     "language": "python",
     "metadata": {},
     "outputs": []
    },
    {
     "cell_type": "code",
     "collapsed": false,
     "input": [
      "lrg_values= []\n",
      "for feature in country_centroids_revised['features']:\n",
      "    years = feature['properties']['scenarios'][0]['years']\n",
      "    for year in years:\n",
      "        if abs(year['value']) > 100.0 and abs(year['value']) < 1000.0:\n",
      "            lrg_values.append(abs(year['value']))\n",
      "len(lrg_values)"
     ],
     "language": "python",
     "metadata": {},
     "outputs": []
    },
    {
     "cell_type": "code",
     "collapsed": false,
     "input": [
      "plt.hist(lrg_values,bins=20)\n",
      "plt.show()"
     ],
     "language": "python",
     "metadata": {},
     "outputs": []
    },
    {
     "cell_type": "code",
     "collapsed": false,
     "input": [
      "countries_revised = {\n",
      "    \"type\": \"FeatureCollection\",\n",
      "    \"features\": [] \n",
      "}\n",
      "for feature in countries['features']:\n",
      "    country = feature['id']\n",
      "    if future_of_food.has_key(country):\n",
      "        feature['properties']['scenarios'] = future_of_food[country]['scenarios']\n",
      "        countries_revised[\"features\"].append(feature)\n",
      "        "
     ],
     "language": "python",
     "metadata": {},
     "outputs": []
    },
    {
     "cell_type": "code",
     "collapsed": false,
     "input": [
      "len(countries_revised['features'])"
     ],
     "language": "python",
     "metadata": {},
     "outputs": []
    },
    {
     "cell_type": "code",
     "collapsed": false,
     "input": [
      "with open('future_of_food.geojson', 'w') as f:\n",
      "    json.dump(countries_revised, f, indent=4)"
     ],
     "language": "python",
     "metadata": {},
     "outputs": []
    },
    {
     "cell_type": "code",
     "collapsed": false,
     "input": [
      "country_centroids = {\n",
      "    \"type\": \"FeatureCollection\",\n",
      "    \"features\": [] \n",
      "}\n",
      "for row in cow:\n",
      "    idx = row['ISO3166A3'].strip()\n",
      "    name = row['ISOen_name'].strip()\n",
      "    lng = row['longitude'].strip()\n",
      "    lat = row['latitude'].strip()\n",
      "    feature = {\"type\":\"Feature\", \n",
      "               \"id\": idx,\n",
      "               \"properties\": {\n",
      "                    \"name\": name\n",
      "                },\n",
      "               \"geometry\": {\n",
      "                    \"type\": \"Point\",\n",
      "                    \"coordinates\": [float(lng), float(lat)]\n",
      "                }\n",
      "               }\n",
      "    country_centroids[\"features\"].append(feature)"
     ],
     "language": "python",
     "metadata": {},
     "outputs": []
    },
    {
     "cell_type": "code",
     "collapsed": false,
     "input": [
      "country_centroids[\"features\"][0]"
     ],
     "language": "python",
     "metadata": {},
     "outputs": []
    },
    {
     "cell_type": "code",
     "collapsed": false,
     "input": [
      "country_centroids_revised = {\n",
      "    \"type\": \"FeatureCollection\",\n",
      "    \"features\": [] \n",
      "}\n",
      "for feature in country_centroids['features']:\n",
      "    country = feature['id']\n",
      "    if future_of_food.has_key(country):\n",
      "        feature['properties']['scenarios'] = future_of_food[country]['scenarios']\n",
      "        country_centroids_revised[\"features\"].append(feature)\n",
      "        "
     ],
     "language": "python",
     "metadata": {},
     "outputs": []
    },
    {
     "cell_type": "code",
     "collapsed": false,
     "input": [
      "country_centroids_revised[\"features\"][0]"
     ],
     "language": "python",
     "metadata": {},
     "outputs": []
    },
    {
     "cell_type": "code",
     "collapsed": false,
     "input": [
      "sorted_features = sorted(country_centroids_revised['features'], cmp=compare_features)\n",
      "country_centroids_revised['features'] = sorted_features"
     ],
     "language": "python",
     "metadata": {},
     "outputs": []
    },
    {
     "cell_type": "code",
     "collapsed": false,
     "input": [
      "with open('fof.geojson', 'w') as f:\n",
      "    json.dump(country_centroids_revised, f, indent=4)"
     ],
     "language": "python",
     "metadata": {},
     "outputs": []
    },
    {
     "cell_type": "code",
     "collapsed": false,
     "input": [
      "# Add new metric\n",
      "future_of_food = {}\n",
      "for row in data:\n",
      "    country = row['Region']\n",
      "    scenario = row[\"Scenario\"]\n",
      "    year = row[\"Year\"]\n",
      "    item = row[\"Item\"]\n",
      "    metric = row[\"Metric\"]\n",
      "    stats = row[\"Stats\"]\n",
      "    subitem = row[\"Subitem\"]\n",
      "    cause_of_death = row[\"Cause of death\"]\n",
      "    value = float(row[\"Value\"])\n",
      "    if (scenario == \"SSP2_CC\" or scenario == \"SSP2_NoCC\") and stats == \"mean\" and \\\n",
      "         item == \"deaths_avd\" and cause_of_death == \"all-c\" and subitem == \"ALL_SCN\" and \\\n",
      "         (metric == \"abs\" or metric == \"chg_cap\"):\n",
      "        if not future_of_food.has_key(country):\n",
      "            future_of_food[country] = {\"scenarios\": []}\n",
      "            future_of_food[country][\"scenarios\"].append({\"scenario\": \"SSP2_CC\", \"years\":[]})\n",
      "            future_of_food[country][\"scenarios\"].append({\"scenario\": \"SSP2_NoCC\", \"years\":[]})            \n",
      "            for y in range(2015, 2055, 5):\n",
      "                val_0 = {\"year\": y, \"abs\": 0, \"chg_cap\": 0}\n",
      "                val_1 = {\"year\": y, \"abs\": 0, \"chg_cap\": 0}                \n",
      "                future_of_food[country][\"scenarios\"][0][\"years\"].append(val_0)\n",
      "                future_of_food[country][\"scenarios\"][1][\"years\"].append(val_1)                \n",
      "        years_idx = (int(year)%2015)/5\n",
      "        if scenario == \"SSP2_CC\":\n",
      "            scenarios_idx = 0\n",
      "        elif scenario == \"SSP2_NoCC\":\n",
      "            scenarios_idx = 1\n",
      "        future_of_food[country][\"scenarios\"][scenarios_idx][\"years\"][years_idx][metric] = value"
     ],
     "language": "python",
     "metadata": {},
     "outputs": []
    },
    {
     "cell_type": "code",
     "collapsed": false,
     "input": [
      "future_of_food['CHN']"
     ],
     "language": "python",
     "metadata": {},
     "outputs": []
    },
    {
     "cell_type": "code",
     "collapsed": false,
     "input": [
      "# Centroids\n",
      "country_centroids_revised = {\n",
      "    \"type\": \"FeatureCollection\",\n",
      "    \"features\": [] \n",
      "}\n",
      "for feature in country_centroids['features']:\n",
      "    country = feature['id']\n",
      "    if future_of_food.has_key(country):\n",
      "        feature['properties']['scenarios'] = future_of_food[country]['scenarios']\n",
      "        country_centroids_revised[\"features\"].append(feature)\n",
      "        "
     ],
     "language": "python",
     "metadata": {},
     "outputs": []
    },
    {
     "cell_type": "code",
     "collapsed": false,
     "input": [
      "chg_cap_values = []\n",
      "for feature in country_centroids_revised['features']:\n",
      "    years = feature['properties']['scenarios'][0]['years']\n",
      "    for year in years:\n",
      "        chg_cap_values.append(abs(year['chg_cap']))\n",
      "len(chg_cap_values)\n"
     ],
     "language": "python",
     "metadata": {},
     "outputs": []
    },
    {
     "cell_type": "code",
     "collapsed": false,
     "input": [
      "plt.hist(chg_cap_values,bins=1000)\n",
      "plt.show()"
     ],
     "language": "python",
     "metadata": {},
     "outputs": []
    },
    {
     "cell_type": "code",
     "collapsed": false,
     "input": [
      "small_values= []\n",
      "for feature in country_centroids_revised['features']:\n",
      "    years = feature['properties']['scenarios'][0]['years']\n",
      "    for year in years:\n",
      "        if abs(year['chg_cap']) < 50.0:\n",
      "            small_values.append(abs(year['chg_cap']))\n",
      "len(small_values)"
     ],
     "language": "python",
     "metadata": {},
     "outputs": []
    },
    {
     "cell_type": "code",
     "collapsed": false,
     "input": [
      "plt.hist(small_values)\n",
      "plt.show()"
     ],
     "language": "python",
     "metadata": {},
     "outputs": []
    },
    {
     "cell_type": "code",
     "collapsed": false,
     "input": [
      "def compare_features(feature1, feature2):\n",
      "    min1 = min2 = 0.0\n",
      "    for year in feature2['properties']['scenarios'][0]['years']:\n",
      "        if abs(year['chg_cap']) > min2:\n",
      "            min2 = abs(year['chg_cap'])\n",
      "    for year in feature1['properties']['scenarios'][0]['years']:\n",
      "        if abs(year['chg_cap']) > min1:\n",
      "            min1 = abs(year['chg_cap'])\n",
      "\n",
      "    return int(min2 - min1)"
     ],
     "language": "python",
     "metadata": {},
     "outputs": []
    },
    {
     "cell_type": "code",
     "collapsed": false,
     "input": [
      "sorted_features = sorted(country_centroids_revised['features'], cmp=compare_features)\n",
      "country_centroids_revised['features'] = sorted_features"
     ],
     "language": "python",
     "metadata": {},
     "outputs": []
    },
    {
     "cell_type": "code",
     "collapsed": false,
     "input": [
      "with open('fof-chg_cap.geojson', 'w') as f:\n",
      "    json.dump(country_centroids_revised, f, indent=4)"
     ],
     "language": "python",
     "metadata": {},
     "outputs": []
    },
    {
     "cell_type": "code",
     "collapsed": false,
     "input": [
      "#Country level\n",
      "\n",
      "countries_revised = {\n",
      "    \"type\": \"FeatureCollection\",\n",
      "    \"features\": [] \n",
      "}\n",
      "for feature in countries['features']:\n",
      "    country = feature['id']\n",
      "    if future_of_food.has_key(country):\n",
      "        feature['properties']['scenarios'] = future_of_food[country]['scenarios']\n",
      "        countries_revised[\"features\"].append(feature)\n"
     ],
     "language": "python",
     "metadata": {},
     "outputs": []
    },
    {
     "cell_type": "code",
     "collapsed": false,
     "input": [
      "with open('future_of_food-chg_cap.geojson', 'w') as f:\n",
      "    json.dump(countries_revised, f, indent=4)"
     ],
     "language": "python",
     "metadata": {},
     "outputs": []
    },
    {
     "cell_type": "code",
     "collapsed": false,
     "input": [
      "# Create bin file for centroid visualization\n",
      "data = []\n",
      "with open(srcfile, \"rb\") as csvfile:\n",
      "    reader = csv.DictReader(csvfile)\n",
      "    for line in reader:\n",
      "        data.append(line)\n"
     ],
     "language": "python",
     "metadata": {},
     "outputs": []
    },
    {
     "cell_type": "code",
     "collapsed": false,
     "input": [
      "data[0]"
     ],
     "language": "python",
     "metadata": {},
     "outputs": []
    },
    {
     "cell_type": "code",
     "collapsed": false,
     "input": [
      "# Add new metric\n",
      "future_of_food = {}\n",
      "for row in data:\n",
      "    country = row['Region']\n",
      "    scenario = row[\"Scenario\"]\n",
      "    year = row[\"Year\"]\n",
      "    item = row[\"Item\"]\n",
      "    metric = row[\"Metric\"]\n",
      "    stats = row[\"Stats\"]\n",
      "    subitem = row[\"Subitem\"]\n",
      "    cause_of_death = row[\"Cause of death\"]\n",
      "    value = float(row[\"Value\"])\n",
      "    if scenario == \"SSP2_CC\" and stats == \"mean\" and \\\n",
      "         item == \"deaths_avd\" and cause_of_death == \"all-c\" and subitem == \"ALL_SCN\" and \\\n",
      "         (metric == \"chg_abs\" or metric == \"chg_cap\"):\n",
      "        if not future_of_food.has_key(country):\n",
      "            future_of_food[country] = {\"scenarios\": []}\n",
      "            future_of_food[country][\"scenarios\"].append({\"scenario\": \"SSP2_CC\", \"years\":[]})\n",
      "            for y in range(2015, 2055, 5):\n",
      "                val_0 = {\"year\": y, \"chg_abs\": 0, \"chg_cap\": 0}\n",
      "                future_of_food[country][\"scenarios\"][0][\"years\"].append(val_0)\n",
      "        years_idx = (int(year)%2015)/5\n",
      "        if scenario == \"SSP2_CC\":\n",
      "            scenarios_idx = 0\n",
      "        future_of_food[country][\"scenarios\"][scenarios_idx][\"years\"][years_idx][metric] = value"
     ],
     "language": "python",
     "metadata": {},
     "outputs": []
    },
    {
     "cell_type": "code",
     "collapsed": false,
     "input": [
      "future_of_food['AFG']"
     ],
     "language": "python",
     "metadata": {},
     "outputs": []
    },
    {
     "cell_type": "code",
     "collapsed": false,
     "input": [
      "cow = []\n",
      "with open(\"cow.csv\", \"rb\") as csvfile:\n",
      "    reader = csv.DictReader(csvfile,delimiter=\";\")\n",
      "    for line in reader:\n",
      "        cow.append(line)\n"
     ],
     "language": "python",
     "metadata": {},
     "outputs": []
    },
    {
     "cell_type": "code",
     "collapsed": false,
     "input": [
      "centroids = {}\n",
      "for row in cow:\n",
      "    idx = row['ISO3166A3'].strip()\n",
      "    lng = float(row['longitude'].strip())\n",
      "    lat = float(row['latitude'].strip())\n",
      "    if not centroids.has_key(idx):\n",
      "        centroids[idx] = [lng,lat]"
     ],
     "language": "python",
     "metadata": {},
     "outputs": []
    },
    {
     "cell_type": "code",
     "collapsed": false,
     "input": [
      "centroids['AFG']\n",
      "years = future_of_food['AFG']['scenarios'][0]['years']\n",
      "years[0]"
     ],
     "language": "python",
     "metadata": {},
     "outputs": []
    },
    {
     "cell_type": "code",
     "collapsed": false,
     "input": [
      "points = []\n",
      "for country_name in future_of_food.keys():\n",
      "    country = future_of_food[country_name]\n",
      "    x,y = LonLatToPixelXY(centroids[country_name])\n",
      "    years= future_of_food[country_name]['scenarios'][0]['years']\n",
      "    for i in range(0,len(years)-1):\n",
      "        year = years[i][\"year\"]\n",
      "        val_1 = years[i][\"chg_cap\"]\n",
      "        val_2 = years[i+1][\"chg_cap\"]\n",
      "        points += [x,y,year,val_1,val_2]\n",
      "    year = years[i+1][\"year\"]\n",
      "    val_1 = years[i+1][\"chg_cap\"]\n",
      "    val_2 = years[i+1][\"chg_cap\"]\n",
      "    points += [x,y,year,val_1,val_2]\n",
      "    \n",
      "split = split_list(points,len(points)/5)\n",
      "ordered_split = sorted(split, key=getSmallestAbsoluteKey, reverse=True)\n",
      "points = []\n",
      "for x in ordered_split:\n",
      "    for y in x:\n",
      "        points += [y]\n",
      "\n",
      "array.array('f', points).tofile(open(\"fof-centroids-chg_cap.bin\", 'w'))"
     ],
     "language": "python",
     "metadata": {},
     "outputs": []
    },
    {
     "cell_type": "code",
     "collapsed": false,
     "input": [
      "len(points)"
     ],
     "language": "python",
     "metadata": {},
     "outputs": []
    },
    {
     "cell_type": "code",
     "collapsed": false,
     "input": [
      "points[7518]"
     ],
     "language": "python",
     "metadata": {},
     "outputs": []
    },
    {
     "cell_type": "code",
     "collapsed": false,
     "input": [
      "min(0,-1)"
     ],
     "language": "python",
     "metadata": {},
     "outputs": []
    },
    {
     "cell_type": "code",
     "collapsed": false,
     "input": [
      "hex_colors = ['#8b0000','#8e0004','#900008','#91000b','#94010f','#960111','#980214','#9b0316','#9d041a','#a0051c','#a2061e','#a30820','#a50922','#a70b24','#aa0d26','#ab0f28','#ad112a','#b0122c','#b2142e','#b31630','#b51832','#b81a34','#ba1c35','#bb1e37','#be2039','#bf223a','#c1243c','#c3263d','#c4283f','#c62a40','#c82b42','#c92e43','#cb3045','#cd3246','#cf3447','#d03548','#d2384a','#d33a4b','#d43c4c','#d73e4d','#d8404e','#d9424f','#db4450','#dc4651','#dd4852','#df4a53','#e04d54','#e14f55','#e35056','#e45357','#e55658','#e75758','#e85959','#e95b5a','#ea5e5a','#eb615b','#ec625c','#ed655d','#ee675d','#ef695e','#f16b5f','#f26d5f','#f37060','#f37261','#f47461','#f57662','#f67963','#f77a63','#f87d64','#f87f65','#f98166','#fa8466','#fb8567','#fb8868','#fc8b69','#fd8d69','#fe8f6a','#fe906b','#ff936b','#ff956d','#ff976d','#ff9b6f','#ff9c70','#ff9f71','#ffa272','#ffa474','#ffa675','#ffa976','#ffac77','#ffae79','#ffb07b','#ffb37c','#ffb47d','#ffb77f','#ffb981','#ffbb82','#ffbd84','#ffc187','#ffc388','#ffc48a','#ffc78c','#ffc98f','#ffcb91','#ffcd93','#ffd095','#ffd298','#ffd49a','#ffd69c','#ffd89f','#ffdaa3','#ffdca5','#ffdea8','#ffe1ab','#ffe2ae','#ffe4b1','#ffe6b4','#ffe9b7','#ffebba','#ffecbd','#ffeec1','#fff1c4','#fff2c8','#fff5cb','#fff6cf','#fff9d3','#fffbd7','#fffddb','#fffedf','#fdffde','#fbfedd','#f7fed9','#f5fdd8','#f1fdd5','#effcd4','#ecfbd2','#e9fbcf','#e7face','#e4facc','#e0f8ca','#def8c8','#dcf7c7','#daf6c5','#d7f6c3','#d4f4c2','#d2f4c1','#d0f3c0','#cef3be','#ccf1bd','#c9f1bb','#c6efba','#c4efb8','#c2eeb7','#c1edb6','#beecb5','#bcebb4','#bbeab3','#b9e9b2','#b7e9b1','#b4e7b0','#b2e7ae','#b0e6ad','#aee4ac','#ace4ab','#aae3aa','#a9e2aa','#a7e0a9','#a5dfa8','#a3dfa7','#a1dea6','#9fdca5','#9edba4','#9cdba4','#9adaa3','#98d8a2','#97d7a1','#95d7a1','#93d5a0','#92d59f','#90d39f','#8ed29e','#8dd19d','#8bd09c','#88cf9c','#87ce9b','#85cd9a','#83cc9a','#82cb99','#80ca98','#7fc998','#7dc797','#7cc697','#7ac596','#79c496','#77c495','#76c295','#75c194','#72c094','#71bf93','#6fbe92','#6dbd92','#6cbc92','#6bbb91','#69ba91','#68b990','#66b890','#65b78f','#64b68f','#62b48f','#60b38e','#5eb28e','#5db18d','#5bb08d','#5aae8c','#59ad8c','#57ac8c','#56ab8b','#54ab8b','#53aa8b','#52a98a','#50a78a','#4ea689','#4ca589','#4ba389','#49a389','#48a288','#46a188','#45a088','#449f87','#429d87','#419c87','#3f9b86','#3d9a86','#3b9986','#399885','#389785','#369585','#349585','#339484','#319284','#2f9184','#2e9184','#2c8f83','#2a8e83','#268d83','#248c82','#228b82','#208982','#1e8882','#1c8782','#198681','#168681','#138481','#108481','#0c8281','#078280','#008080']\n",
      "img = Image.new( 'RGB', (255,255), \"white\") # create a new black image\n",
      "pixels = img.load() # create the pixel map\n",
      "for i in range(img.size[0]):    # for every pixel:\n",
      "    for j in range(img.size[1]):\n",
      "        pixels[i,j] = hex_to_rgb(hex_colors[i]) # set the colour accordingly\n",
      "img.show\n",
      "img.save(\"color-map.png\")"
     ],
     "language": "python",
     "metadata": {},
     "outputs": []
    },
    {
     "cell_type": "code",
     "collapsed": false,
     "input": [
      "hex_to_rgb(\"#8b0000\")"
     ],
     "language": "python",
     "metadata": {},
     "outputs": []
    },
    {
     "cell_type": "code",
     "collapsed": false,
     "input": [
      "hex_to_rgb(\"#00008b\")"
     ],
     "language": "python",
     "metadata": {},
     "outputs": []
    },
    {
     "cell_type": "code",
     "collapsed": false,
     "input": [
      "139.0/255"
     ],
     "language": "python",
     "metadata": {},
     "outputs": []
    },
    {
     "cell_type": "code",
     "collapsed": false,
     "input": [
      "with open(\"ne_110m_admin_0_countries.geo.json\") as f:\n",
      "    countries_json = json.load(f)\n"
     ],
     "language": "python",
     "metadata": {},
     "outputs": []
    },
    {
     "cell_type": "code",
     "collapsed": false,
     "input": [
      "#countries_json['features'][0]['geometry']\n",
      "#countries_json['features'][0]['properties']['iso_a3']\n",
      "#future_of_food['AFG']['scenarios'][0]['years']"
     ],
     "language": "python",
     "metadata": {},
     "outputs": []
    },
    {
     "cell_type": "code",
     "collapsed": false,
     "input": [
      "country_geojson = {\n",
      "    \"type\": \"FeatureCollections\",\n",
      "    \"features\": []\n",
      "}\n",
      "for country_name in future_of_food.keys():\n",
      "    country = future_of_food[country_name]\n",
      "    geometry = None\n",
      "    for country in countries_json['features']:\n",
      "        if country['properties']['iso_a3'] == country_name:\n",
      "            geometry = country['geometry']\n",
      "            break\n",
      "    if geometry != None:\n",
      "        years = future_of_food[country_name]['scenarios'][0]['years']\n",
      "\n",
      "        feature = {\n",
      "            \"type\": \"Feature\",\n",
      "            \"geometry\": geometry,\n",
      "            \"properties\": {\"years\": years}\n",
      "        }\n",
      "        country_geojson['features'].append(feature)\n"
     ],
     "language": "python",
     "metadata": {},
     "outputs": []
    },
    {
     "cell_type": "code",
     "collapsed": false,
     "input": [
      "with open('country_level.geojson', 'w') as f:\n",
      "    json.dump(country_geojson, f)"
     ],
     "language": "python",
     "metadata": {},
     "outputs": []
    },
    {
     "cell_type": "code",
     "collapsed": false,
     "input": [
      "future_of_food['CPV']"
     ],
     "language": "python",
     "metadata": {},
     "outputs": []
    },
    {
     "cell_type": "code",
     "collapsed": false,
     "input": [
      "hex_colors = '#8b0000','#8c0003','#8f0006','#8f0008','#91000b','#92010c','#94010f','#960110','#980113','#990214','#9b0216','#9b0218','#9d0319','#9e041b','#a0041c','#a1051e','#a3051f','#a50721','#a50723','#a80825','#a80926','#aa0a27','#ab0c29','#ad0c2a','#ae0e2b','#af0f2d','#b0102e','#b21130','#b41231','#b51332','#b61533','#b81635','#b91736','#bb1837','#bc1938','#bc1a39','#be1c3b','#bf1d3c','#c01e3d','#c21f3e','#c3213f','#c52240','#c62341','#c72442','#c82543','#c92744','#ca2845','#cc2946','#cd2a47','#ce2c48','#cf2d49','#d12e4a','#d1304b','#d2314b','#d4324c','#d4334d','#d6344e','#d7354e','#d8374f','#d93850','#da3a51','#db3b51','#dc3c52','#de3e52','#de3f53','#df4153','#e14254','#e14454','#e24555','#e34655','#e44855','#e54956','#e64b56','#e74c56','#e84e57','#e94f57','#ea5057','#eb5157','#eb5357','#ed5557','#ed5757','#ee5857','#ef5957','#f05b57','#f05c57','#f15e57','#f25f57','#f36157','#f36256','#f46456','#f56556','#f56755','#f66955','#f76955','#f76c54','#f86e53','#f96f53','#f97152','#fa7251','#fa7451','#fb7550','#fb774e','#fc784e','#fc7a4d','#fc7b4c','#fd7e4b','#fd8049','#fe8048','#fe8347','#fe8545','#ff8544','#ff8742','#ff8940','#ff8c3e','#ff8e3c','#ff8f39','#ff9138','#ff9335','#ff9432','#ff962f','#ff992c','#ff9a2a','#ff9b26','#ff9e21','#ff9f1c','#ffa118','#ffa210','#ffa503','#90ee8f','#8eed8e','#8dec8d','#8deb8c','#8cea8c','#8be98b','#8ae88a','#89e789','#88e787','#87e686','#87e586','#86e585','#85e484','#84e383','#83e282','#82e181','#81e080','#81df80','#80de7f','#7fde7e','#7edc7c','#7ddb7b','#7cda7a','#7cda7a','#7bda79','#7ad978','#79d877','#78d676','#77d575','#76d574','#75d473','#75d473','#74d272','#73d171','#72d170','#71cf6f','#70cf6f','#70ce6e','#6fce6d','#6ecd6c','#6dcc6b','#6ccb6a','#6bca6a','#6bc969','#6ac969','#69c868','#68c767','#67c666','#66c465','#65c465','#65c464','#64c363','#63c262','#62c062','#61bf61','#60bf60','#60be60','#5fbe5f','#5ebd5e','#5dbb5e','#5cbb5d','#5bba5c','#5ab95c','#5ab95b','#59b75b','#58b65a','#57b559','#56b558','#55b458','#55b358','#54b357','#53b256','#52b156','#51af55','#50af55','#50ae55','#4fad54','#4eac54','#4dab53','#4caa52','#4ba952','#4ba952','#4aa952','#49a851','#48a651','#47a550','#46a450','#46a450','#45a44f','#44a34f','#43a24f','#42a04f','#41a04e','#409f4e','#409f4e','#3f9e4e','#3e9c4e','#3d9b4e','#3c9a4e','#3b9a4e','#3b994e','#3a984e','#39984e','#38974e','#37964e','#36954e','#36944e','#35944e','#34934f','#33914f','#32904f','#318f50','#308f50','#308e51','#2f8d51','#2e8d52','#2d8b53','#2c8b54','#2b8a55','#2a8956','#288758','#27875a','#27865a','#26855c','#24845e','#228361','#208365','#008080'"
     ],
     "language": "python",
     "metadata": {},
     "outputs": []
    },
    {
     "cell_type": "code",
     "collapsed": false,
     "input": [
      "img = Image.new( 'RGB', (255,255), \"white\") # create a new black image\n",
      "pixels = img.load() # create the pixel map\n",
      "for i in range(img.size[0]):    # for every pixel:\n",
      "    for j in range(img.size[1]):\n",
      "        pixels[i,j] = hex_to_rgb(hex_colors[i]) # set the colour accordingly\n",
      "img.show\n",
      "img.save(\"color-map.png\")"
     ],
     "language": "python",
     "metadata": {},
     "outputs": []
    },
    {
     "cell_type": "code",
     "collapsed": false,
     "input": [
      "# Different scenarios\n",
      "data = []\n",
      "srcfile = \"out.csv\"\n",
      "with open(srcfile, \"rb\") as csvfile:\n",
      "    reader = csv.DictReader(csvfile)\n",
      "    for line in reader:\n",
      "        data.append(line)\n"
     ],
     "language": "python",
     "metadata": {},
     "outputs": []
    },
    {
     "cell_type": "code",
     "collapsed": false,
     "input": [
      "len(data)"
     ],
     "language": "python",
     "metadata": {},
     "outputs": []
    },
    {
     "cell_type": "code",
     "collapsed": false,
     "input": [
      "data[9]"
     ],
     "language": "python",
     "metadata": {},
     "outputs": []
    },
    {
     "cell_type": "code",
     "collapsed": false,
     "input": [
      "# Include RCP\n",
      "# Get just chg_cap\n",
      "future_of_food = {}\n",
      "for row in data:\n",
      "    rcp = row['RCP']\n",
      "    country = row['Region']\n",
      "    scenario = row[\"Scenario\"]\n",
      "    year = row[\"Year\"]\n",
      "    item = row[\"Item\"]\n",
      "    metric = row[\"Metric\"]\n",
      "    stats = row[\"Stats\"]\n",
      "    subitem = row[\"Subitem\"]\n",
      "    cause_of_death = row[\"Cause of death\"]\n",
      "    value = float(row[\"Value\"])\n",
      "    if scenario == \"SSP2_CC\" and stats == \"mean\" and \\\n",
      "         item == \"deaths_avd\" and cause_of_death == \"all-c\" and subitem == \"ALL_SCN\" and \\\n",
      "         metric == \"chg_cap\":\n",
      "        if not future_of_food.has_key(country):\n",
      "            future_of_food[country] = {\"rcp\": {'RCP8p5': [], 'RCP2p6':[], 'RCP6p0': [], 'RCP4p5': []}}\n",
      "            for y in range(2015, 2055, 5):\n",
      "                for val in [\"RCP8p5\", \"RCP2p6\", \"RCP6p0\", \"RCP4p5\"]:\n",
      "                    val_0 = {\"year\": y, \"chg_cap\": 0}\n",
      "                    future_of_food[country][\"rcp\"][val].append(val_0)\n",
      "        years_idx = (int(year)%2015)/5\n",
      "        future_of_food[country][\"rcp\"][rcp][years_idx][metric] = value"
     ],
     "language": "python",
     "metadata": {},
     "outputs": []
    },
    {
     "cell_type": "code",
     "collapsed": false,
     "input": [
      "future_of_food[\"AFG\"]['rcp'].keys()"
     ],
     "language": "python",
     "metadata": {},
     "outputs": []
    },
    {
     "cell_type": "code",
     "collapsed": false,
     "input": [
      "cow = []\n",
      "with open(\"cow.csv\", \"rb\") as csvfile:\n",
      "    reader = csv.DictReader(csvfile,delimiter=\";\")\n",
      "    for line in reader:\n",
      "        cow.append(line)\n",
      "centroids = {}\n",
      "for row in cow:\n",
      "    idx = row['ISO3166A3'].strip()\n",
      "    lng = float(row['longitude'].strip())\n",
      "    lat = float(row['latitude'].strip())\n",
      "    if not centroids.has_key(idx):\n",
      "        centroids[idx] = [lng,lat]\n",
      "\n"
     ],
     "language": "python",
     "metadata": {},
     "outputs": []
    },
    {
     "cell_type": "code",
     "collapsed": false,
     "input": [
      "rcp_to_idx = {\n",
      "    'RCP2p6': 0.0, 'RCP4p5': 1.0, 'RCP6p0': 2.0, 'RCP8p5': 3.0\n",
      "}\n",
      "points = []\n",
      "for country_name in future_of_food.keys():\n",
      "    country = future_of_food[country_name]\n",
      "    x,y = LonLatToPixelXY(centroids[country_name])\n",
      "    for rcp in future_of_food[country_name]['rcp'].keys():\n",
      "        rcp_idx = rcp_to_idx[rcp]\n",
      "        years = future_of_food[country_name]['rcp'][rcp]\n",
      "        for i in range(0,len(years)-1):\n",
      "            year = years[i][\"year\"]\n",
      "            val_1 = years[i][\"chg_cap\"]\n",
      "            val_2 = years[i+1][\"chg_cap\"]\n",
      "            points += [x,y,year,val_1,val_2, rcp_idx]\n",
      "        year = years[i+1][\"year\"]\n",
      "        val_1 = years[i+1][\"chg_cap\"]\n",
      "        val_2 = years[i+1][\"chg_cap\"]\n",
      "        points += [x,y,year,val_1,val_2, rcp_idx]\n",
      "    \n",
      "split = split_list(points,len(points)/6)\n",
      "ordered_split = sorted(split, key=getSmallestAbsoluteKey, reverse=True)\n",
      "points = []\n",
      "for x in ordered_split:\n",
      "    for y in x:\n",
      "        points += [y]\n",
      "\n",
      "array.array('f', points).tofile(open(\"fof-centroids-rcp-chg_cap.bin\", 'w'))"
     ],
     "language": "python",
     "metadata": {},
     "outputs": []
    },
    {
     "cell_type": "code",
     "collapsed": false,
     "input": [
      "len(points)"
     ],
     "language": "python",
     "metadata": {},
     "outputs": []
    },
    {
     "cell_type": "code",
     "collapsed": false,
     "input": [
      "points[4]"
     ],
     "language": "python",
     "metadata": {},
     "outputs": []
    },
    {
     "cell_type": "code",
     "collapsed": false,
     "input": [
      "hex_colors = ['#ff0000','#d60002','#b10002','#8b0000']\n",
      "for color in hex_colors:\n",
      "    val = hex_to_rgb(color)\n",
      "    print \"(%s, %s, %s, .65)\" % (val[0]/255.0, val[1]/255.0, val[2]/255.0) "
     ],
     "language": "python",
     "metadata": {},
     "outputs": []
    },
    {
     "cell_type": "code",
     "collapsed": false,
     "input": [
      "hex_colors = ['#0000ff','#0000d7','#0000b1','#00008b']\n",
      "for color in hex_colors:\n",
      "    val = hex_to_rgb(color)\n",
      "    print \"(%s, %s, %s, .65)\" % (val[0]/255.0, val[1]/255.0, val[2]/255.0) \n"
     ],
     "language": "python",
     "metadata": {},
     "outputs": []
    },
    {
     "cell_type": "code",
     "collapsed": false,
     "input": [],
     "language": "python",
     "metadata": {},
     "outputs": []
    }
   ],
   "metadata": {}
  }
 ]
}